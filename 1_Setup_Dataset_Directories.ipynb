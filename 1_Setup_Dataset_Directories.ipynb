{
  "nbformat": 4,
  "nbformat_minor": 0,
  "metadata": {
    "colab": {
      "provenance": [],
      "gpuType": "T4"
    },
    "kernelspec": {
      "name": "python3",
      "display_name": "Python 3"
    },
    "language_info": {
      "name": "python"
    },
    "accelerator": "GPU"
  },
  "cells": [
    {
      "cell_type": "markdown",
      "source": [
        "# Mount Google Drive"
      ],
      "metadata": {
        "id": "uwEX6eCIox3_"
      }
    },
    {
      "cell_type": "code",
      "source": [
        "from google.colab import drive\n",
        "drive.mount('/content/drive')"
      ],
      "metadata": {
        "colab": {
          "base_uri": "https://localhost:8080/"
        },
        "id": "WNnCddeno0TW",
        "outputId": "05e186cc-6f2f-4e9d-fd16-e1ea7822f781"
      },
      "execution_count": 3,
      "outputs": [
        {
          "output_type": "stream",
          "name": "stdout",
          "text": [
            "Mounted at /content/drive\n"
          ]
        }
      ]
    },
    {
      "cell_type": "markdown",
      "source": [
        "# Specify All The Directories"
      ],
      "metadata": {
        "id": "Z9cf0D8GpIEG"
      }
    },
    {
      "cell_type": "code",
      "source": [
        "# Train set path\n",
        "glioma_train_path = '/content/drive/MyDrive/BrainTumorClassification/Dataset/Training/glioma_tumor'\n",
        "meningioma_train_path = '/content/drive/MyDrive/BrainTumorClassification/Dataset/Training/meningioma_tumor'\n",
        "notumor_train_path = '/content/drive/MyDrive/BrainTumorClassification/Dataset/Training/no_tumor'\n",
        "pituitary_train_path = '/content/drive/MyDrive/BrainTumorClassification/Dataset/Training/pituitary_tumor'\n",
        "\n",
        "# Test set path\n",
        "glioma_test_path = '/content/drive/MyDrive/BrainTumorClassification/Dataset/Testing/glioma_tumor'\n",
        "meningioma_test_path = '/content/drive/MyDrive/BrainTumorClassification/Dataset/Testing/meningioma_tumor'\n",
        "notumor_test_path = '/content/drive/MyDrive/BrainTumorClassification/Dataset/Testing/no_tumor'\n",
        "pituitary_test_path = '/content/drive/MyDrive/BrainTumorClassification/Dataset/Testing/pituitary_tumor'"
      ],
      "metadata": {
        "id": "HWctbCyco03A"
      },
      "execution_count": 4,
      "outputs": []
    },
    {
      "cell_type": "markdown",
      "source": [
        "# Rename Images for Train Set"
      ],
      "metadata": {
        "id": "8DruH0HWqGXg"
      }
    },
    {
      "cell_type": "code",
      "source": [
        "# Get a list of all files in the directory\n",
        "files = os.listdir(glioma_train_path)\n",
        "\n",
        "# Iterate through each file and rename it\n",
        "for filename in files:\n",
        "    # Check if the file is a regular file (not a directory)\n",
        "    if os.path.isfile(os.path.join(glioma_train_path, filename)):\n",
        "        # Split the file name and extension\n",
        "        name, extension = os.path.splitext(filename)\n",
        "        new_filename = f\"glioma_{name}{extension}\"\n",
        "        # Rename the file\n",
        "        os.rename(os.path.join(glioma_train_path, filename), os.path.join(glioma_train_path, new_filename))\n",
        "\n",
        "print(\"Train Set/Glioma_All files have been renamed.\")"
      ],
      "metadata": {
        "colab": {
          "base_uri": "https://localhost:8080/"
        },
        "id": "GzTtigBaqIDw",
        "outputId": "faafd57f-afe5-44be-ff4c-8f86af2a1550"
      },
      "execution_count": 5,
      "outputs": [
        {
          "output_type": "stream",
          "name": "stdout",
          "text": [
            "Train Set/Glioma_All files have been renamed.\n"
          ]
        }
      ]
    },
    {
      "cell_type": "code",
      "source": [
        "# Get a list of all files in the directory\n",
        "files = os.listdir(meningioma_train_path)\n",
        "\n",
        "# Iterate through each file and rename it\n",
        "for filename in files:\n",
        "    # Check if the file is a regular file (not a directory)\n",
        "    if os.path.isfile(os.path.join(meningioma_train_path, filename)):\n",
        "        # Split the file name and extension\n",
        "        name, extension = os.path.splitext(filename)\n",
        "        new_filename = f\"meningioma_{name}{extension}\"\n",
        "        # Rename the file\n",
        "        os.rename(os.path.join(meningioma_train_path, filename), os.path.join(meningioma_train_path, new_filename))\n",
        "\n",
        "print(\"Train Set/Meningioma_All files have been renamed.\")"
      ],
      "metadata": {
        "colab": {
          "base_uri": "https://localhost:8080/"
        },
        "id": "Mwl3_BOFrC1i",
        "outputId": "c3b0b301-6a41-49f3-aa8d-e60cfa04d439"
      },
      "execution_count": 6,
      "outputs": [
        {
          "output_type": "stream",
          "name": "stdout",
          "text": [
            "Train Set/Meningioma_All files have been renamed.\n"
          ]
        }
      ]
    },
    {
      "cell_type": "code",
      "source": [
        "# Get a list of all files in the directory\n",
        "files = os.listdir(notumor_train_path)\n",
        "\n",
        "# Iterate through each file and rename it\n",
        "for filename in files:\n",
        "    # Check if the file is a regular file (not a directory)\n",
        "    if os.path.isfile(os.path.join(notumor_train_path, filename)):\n",
        "        # Split the file name and extension\n",
        "        name, extension = os.path.splitext(filename)\n",
        "        new_filename = f\"notumor_{name}{extension}\"\n",
        "        # Rename the file\n",
        "        os.rename(os.path.join(notumor_train_path, filename), os.path.join(notumor_train_path, new_filename))\n",
        "\n",
        "print(\"Train Set/NoTumor_All files have been renamed.\")"
      ],
      "metadata": {
        "colab": {
          "base_uri": "https://localhost:8080/"
        },
        "id": "QwmUVEO_rIyW",
        "outputId": "d7bfd198-fa22-47ef-d29f-d155cbfb3377"
      },
      "execution_count": 7,
      "outputs": [
        {
          "output_type": "stream",
          "name": "stdout",
          "text": [
            "Train Set/NoTumor_All files have been renamed.\n"
          ]
        }
      ]
    },
    {
      "cell_type": "code",
      "source": [
        "# Get a list of all files in the directory\n",
        "files = os.listdir(pituitary_train_path)\n",
        "\n",
        "# Iterate through each file and rename it\n",
        "for filename in files:\n",
        "    # Check if the file is a regular file (not a directory)\n",
        "    if os.path.isfile(os.path.join(pituitary_train_path, filename)):\n",
        "        # Split the file name and extension\n",
        "        name, extension = os.path.splitext(filename)\n",
        "        new_filename = f\"pituitary_{name}{extension}\"\n",
        "        # Rename the file\n",
        "        os.rename(os.path.join(pituitary_train_path, filename), os.path.join(pituitary_train_path, new_filename))\n",
        "\n",
        "print(\"Train Set/Pituitary_All files have been renamed.\")"
      ],
      "metadata": {
        "colab": {
          "base_uri": "https://localhost:8080/"
        },
        "id": "OFjamVoFrQwq",
        "outputId": "255b5e8b-f75f-41f7-e89e-e600c17384ad"
      },
      "execution_count": 8,
      "outputs": [
        {
          "output_type": "stream",
          "name": "stdout",
          "text": [
            "Train Set/Pituitary_All files have been renamed.\n"
          ]
        }
      ]
    },
    {
      "cell_type": "markdown",
      "source": [
        "# Rename Images for Test Set"
      ],
      "metadata": {
        "id": "Qy2WMerUrbFd"
      }
    },
    {
      "cell_type": "code",
      "source": [
        "# Get a list of all files in the directory\n",
        "files = os.listdir(glioma_test_path)\n",
        "\n",
        "# Iterate through each file and rename it\n",
        "for filename in files:\n",
        "    # Check if the file is a regular file (not a directory)\n",
        "    if os.path.isfile(os.path.join(glioma_test_path, filename)):\n",
        "        # Split the file name and extension\n",
        "        name, extension = os.path.splitext(filename)\n",
        "        new_filename = f\"glioma_{name}{extension}\"\n",
        "        # Rename the file\n",
        "        os.rename(os.path.join(glioma_test_path, filename), os.path.join(glioma_test_path, new_filename))\n",
        "\n",
        "print(\"Test Set/Glioma_All files have been renamed.\")"
      ],
      "metadata": {
        "colab": {
          "base_uri": "https://localhost:8080/"
        },
        "id": "IzqCONdyraxp",
        "outputId": "775c3323-d296-42e1-f7da-38c70e415cb8"
      },
      "execution_count": 9,
      "outputs": [
        {
          "output_type": "stream",
          "name": "stdout",
          "text": [
            "Test Set/Glioma_All files have been renamed.\n"
          ]
        }
      ]
    },
    {
      "cell_type": "code",
      "source": [
        "# Get a list of all files in the directory\n",
        "files = os.listdir(meningioma_test_path)\n",
        "\n",
        "# Iterate through each file and rename it\n",
        "for filename in files:\n",
        "    # Check if the file is a regular file (not a directory)\n",
        "    if os.path.isfile(os.path.join(meningioma_test_path, filename)):\n",
        "        # Split the file name and extension\n",
        "        name, extension = os.path.splitext(filename)\n",
        "        new_filename = f\"meningioma_{name}{extension}\"\n",
        "        # Rename the file\n",
        "        os.rename(os.path.join(meningioma_test_path, filename), os.path.join(meningioma_test_path, new_filename))\n",
        "\n",
        "print(\"Test Set/Meningioma_All files have been renamed.\")"
      ],
      "metadata": {
        "colab": {
          "base_uri": "https://localhost:8080/"
        },
        "id": "HBuKUp3GrgMv",
        "outputId": "d01d79cb-75ac-4aff-ccf6-a10770f11fce"
      },
      "execution_count": 10,
      "outputs": [
        {
          "output_type": "stream",
          "name": "stdout",
          "text": [
            "Test Set/Meningioma_All files have been renamed.\n"
          ]
        }
      ]
    },
    {
      "cell_type": "code",
      "source": [
        "# Get a list of all files in the directory\n",
        "files = os.listdir(notumor_test_path)\n",
        "\n",
        "# Iterate through each file and rename it\n",
        "for filename in files:\n",
        "    # Check if the file is a regular file (not a directory)\n",
        "    if os.path.isfile(os.path.join(notumor_test_path, filename)):\n",
        "        # Split the file name and extension\n",
        "        name, extension = os.path.splitext(filename)\n",
        "        new_filename = f\"notumor_{name}{extension}\"\n",
        "        # Rename the file\n",
        "        os.rename(os.path.join(notumor_test_path, filename), os.path.join(notumor_test_path, new_filename))\n",
        "\n",
        "print(\"Test Set/NoTumor_All files have been renamed.\")"
      ],
      "metadata": {
        "colab": {
          "base_uri": "https://localhost:8080/"
        },
        "id": "vyKteOIorhWG",
        "outputId": "36681314-b5db-4c63-f708-81ce182882a1"
      },
      "execution_count": 11,
      "outputs": [
        {
          "output_type": "stream",
          "name": "stdout",
          "text": [
            "Test Set/NoTumor_All files have been renamed.\n"
          ]
        }
      ]
    },
    {
      "cell_type": "code",
      "source": [
        "# Get a list of all files in the directory\n",
        "files = os.listdir(pituitary_test_path)\n",
        "\n",
        "# Iterate through each file and rename it\n",
        "for filename in files:\n",
        "    # Check if the file is a regular file (not a directory)\n",
        "    if os.path.isfile(os.path.join(pituitary_test_path, filename)):\n",
        "        # Split the file name and extension\n",
        "        name, extension = os.path.splitext(filename)\n",
        "        new_filename = f\"pituitary_{name}{extension}\"\n",
        "        # Rename the file\n",
        "        os.rename(os.path.join(pituitary_test_path, filename), os.path.join(pituitary_test_path, new_filename))\n",
        "\n",
        "print(\"Test Set/Pituitary_All files have been renamed.\")"
      ],
      "metadata": {
        "colab": {
          "base_uri": "https://localhost:8080/"
        },
        "id": "MdllpPmtrjBa",
        "outputId": "e776f475-adbf-4623-9bd8-aa1f1f9c6af0"
      },
      "execution_count": 12,
      "outputs": [
        {
          "output_type": "stream",
          "name": "stdout",
          "text": [
            "Test Set/Pituitary_All files have been renamed.\n"
          ]
        }
      ]
    },
    {
      "cell_type": "markdown",
      "source": [
        "# Define Train Directory"
      ],
      "metadata": {
        "id": "zP-Hk9kWsmkX"
      }
    },
    {
      "cell_type": "code",
      "source": [
        "import os\n",
        "import shutil\n",
        "\n",
        "# Define the train directory\n",
        "train_dir = '/content/drive/MyDrive/BrainTumorClassification/Dataset/Train'\n",
        "\n",
        "# Ensure the existence of the train and test directories\n",
        "os.makedirs(train_dir, exist_ok=True)\n",
        "\n",
        "# Move the remaining files to the train directory\n",
        "for file in os.listdir(glioma_train_path):\n",
        "    src = os.path.join(glioma_train_path, file)\n",
        "    dst = os.path.join(train_dir, file)\n",
        "    shutil.move(src, dst)\n",
        "\n",
        "for file in os.listdir(meningioma_train_path):\n",
        "    src = os.path.join(meningioma_train_path, file)\n",
        "    dst = os.path.join(train_dir, file)\n",
        "    shutil.move(src, dst)\n",
        "\n",
        "for file in os.listdir(notumor_train_path):\n",
        "    src = os.path.join(notumor_train_path, file)\n",
        "    dst = os.path.join(train_dir, file)\n",
        "    shutil.move(src, dst)\n",
        "\n",
        "for file in os.listdir(pituitary_train_path):\n",
        "    src = os.path.join(pituitary_train_path, file)\n",
        "    dst = os.path.join(train_dir, file)\n",
        "    shutil.move(src, dst)\n",
        "\n",
        "print(\"Train splitting completed successfully!\")"
      ],
      "metadata": {
        "colab": {
          "base_uri": "https://localhost:8080/"
        },
        "id": "AHT2C8U6sqK-",
        "outputId": "8c376635-5715-4d30-edc7-353dc44a5b9c"
      },
      "execution_count": 13,
      "outputs": [
        {
          "output_type": "stream",
          "name": "stdout",
          "text": [
            "Train splitting completed successfully!\n"
          ]
        }
      ]
    },
    {
      "cell_type": "markdown",
      "source": [
        "# Define Test Directory"
      ],
      "metadata": {
        "id": "7GAjLT1ss2vS"
      }
    },
    {
      "cell_type": "code",
      "source": [
        "import os\n",
        "import shutil\n",
        "\n",
        "# Define the train directory\n",
        "test_dir = '/content/drive/MyDrive/BrainTumorClassification/Dataset/Test'\n",
        "\n",
        "# Ensure the existence of the train and test directories\n",
        "os.makedirs(test_dir, exist_ok=True)\n",
        "\n",
        "# Move the remaining files to the train directory\n",
        "for file in os.listdir(glioma_test_path):\n",
        "    src = os.path.join(glioma_test_path, file)\n",
        "    dst = os.path.join(test_dir, file)\n",
        "    shutil.move(src, dst)\n",
        "\n",
        "for file in os.listdir(meningioma_test_path):\n",
        "    src = os.path.join(meningioma_test_path, file)\n",
        "    dst = os.path.join(test_dir, file)\n",
        "    shutil.move(src, dst)\n",
        "\n",
        "for file in os.listdir(notumor_test_path):\n",
        "    src = os.path.join(notumor_test_path, file)\n",
        "    dst = os.path.join(test_dir, file)\n",
        "    shutil.move(src, dst)\n",
        "\n",
        "for file in os.listdir(pituitary_test_path):\n",
        "    src = os.path.join(pituitary_test_path, file)\n",
        "    dst = os.path.join(test_dir, file)\n",
        "    shutil.move(src, dst)\n",
        "\n",
        "print(\"Train splitting completed successfully!\")"
      ],
      "metadata": {
        "colab": {
          "base_uri": "https://localhost:8080/"
        },
        "id": "ogD_cVpcs4aH",
        "outputId": "610bb933-7864-4532-d0c0-366594b20773"
      },
      "execution_count": 14,
      "outputs": [
        {
          "output_type": "stream",
          "name": "stdout",
          "text": [
            "Train splitting completed successfully!\n"
          ]
        }
      ]
    }
  ]
}
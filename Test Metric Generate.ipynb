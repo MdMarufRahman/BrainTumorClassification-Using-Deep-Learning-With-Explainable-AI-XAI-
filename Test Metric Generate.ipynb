{
 "cells": [
  {
   "cell_type": "code",
   "execution_count": 1,
   "id": "8648a81d-64c6-4ed4-88a0-c5b946b0fb14",
   "metadata": {},
   "outputs": [],
   "source": [
    "import os\n",
    "import torch\n",
    "from torch.utils.data import DataLoader\n",
    "from torchvision import datasets, transforms\n",
    "from torch import nn\n",
    "from tqdm import tqdm\n",
    "import pandas as pd\n",
    "import seaborn as sns\n",
    "import matplotlib.pyplot as plt\n",
    "from sklearn.metrics import confusion_matrix, classification_report"
   ]
  },
  {
   "cell_type": "code",
   "execution_count": 2,
   "id": "fce07de7-7653-45f5-bfa7-f1025f67e02a",
   "metadata": {},
   "outputs": [
    {
     "data": {
      "text/plain": [
       "device(type='cuda')"
      ]
     },
     "execution_count": 2,
     "metadata": {},
     "output_type": "execute_result"
    }
   ],
   "source": [
    "import torch\n",
    "\n",
    "# Move to GPU\n",
    "device = torch.device(\"cuda\" if torch.cuda.is_available() else \"cpu\")\n",
    "device"
   ]
  },
  {
   "cell_type": "code",
   "execution_count": 3,
   "id": "75cae833-c29a-4a83-99e1-6607cbfcf611",
   "metadata": {},
   "outputs": [],
   "source": [
    "import torch\n",
    "import torch.nn as nn\n",
    "import torch.optim as optim\n",
    "from torchvision import models\n",
    "\n",
    "def load_resnet50(num_classes):\n",
    "    model =  models.resnet50(weights='ResNet50_Weights.DEFAULT')\n",
    "    num_features = model.fc.in_features\n",
    "    model.fc = nn.Linear(num_features, num_classes)\n",
    "    return model\n",
    "\n",
    "def load_efficientnet_b0(num_classes):\n",
    "    model = models.efficientnet_b0(weights='EfficientNet_B0_Weights.DEFAULT')\n",
    "    num_features = model.classifier[1].in_features\n",
    "    model.classifier[1] = nn.Linear(num_features, num_classes)\n",
    "    return model\n",
    "\n",
    "def load_mobilenet_v2(num_classes):\n",
    "    model = models.mobilenet_v2(weights='MobileNet_V2_Weights.DEFAULT')\n",
    "    num_features = model.classifier[1].in_features\n",
    "    model.classifier[1] = nn.Linear(num_features, num_classes)\n",
    "    return model\n",
    "\n",
    "def load_mobilenet_v3_large(num_classes):\n",
    "    model = models.mobilenet_v3_large(weights='MobileNet_V3_Large_Weights.DEFAULT')\n",
    "    num_features = model.classifier[3].in_features\n",
    "    model.classifier[3] = nn.Linear(num_features, num_classes)\n",
    "    return model\n",
    "\n",
    "def load_mobilenet_v3_small(num_classes):\n",
    "    model = models.mobilenet_v3_small(weights='MobileNet_V3_Small_Weights.DEFAULT')\n",
    "    num_features = model.classifier[3].in_features\n",
    "    model.classifier[3] = nn.Linear(num_features, num_classes)\n",
    "    return model\n",
    "\n",
    "def load_efficientnet_b1(num_classes):\n",
    "    model = models.efficientnet_b1(weights='EfficientNet_B1_Weights.DEFAULT')\n",
    "    num_features = model.classifier[1].in_features\n",
    "    model.classifier[1] = nn.Linear(num_features, num_classes)\n",
    "    return model"
   ]
  },
  {
   "cell_type": "code",
   "execution_count": 4,
   "id": "3e75863c-7dcd-498f-a115-dbbe16e362f5",
   "metadata": {},
   "outputs": [],
   "source": [
    "# Create test dataloader function\n",
    "def create_test_dataloader(data_dir, batch_size, num_workers=4):\n",
    "    data_transform = transforms.Compose([\n",
    "        transforms.Resize((244, 244)),\n",
    "        transforms.ToTensor(),\n",
    "        transforms.Normalize(mean=[0.485, 0.456, 0.406], std=[0.229, 0.224, 0.225]),\n",
    "    ])\n",
    "\n",
    "    test_dataset = datasets.ImageFolder(os.path.join(data_dir, 'test'), transform=data_transform)\n",
    "    test_loader = DataLoader(test_dataset, batch_size=batch_size, shuffle=False, num_workers=num_workers)\n",
    "    return test_loader"
   ]
  },
  {
   "cell_type": "code",
   "execution_count": 5,
   "id": "912d21bc-75e1-4101-bfc7-79276b2e7892",
   "metadata": {},
   "outputs": [],
   "source": [
    "# Function to load the model\n",
    "def load_model(load_func, checkpoint_path, num_classes):\n",
    "    model = load_func(num_classes=num_classes)\n",
    "    model.load_state_dict(torch.load(checkpoint_path, map_location=device))\n",
    "    model = model.to(device)\n",
    "    model.eval()\n",
    "    return model"
   ]
  },
  {
   "cell_type": "code",
   "execution_count": 6,
   "id": "9be99856-e6d1-44d0-be73-493a4159072b",
   "metadata": {},
   "outputs": [],
   "source": [
    "# Function to evaluate the model and generate metrics\n",
    "def evaluate_model(model, test_loader, criterion):\n",
    "    model.eval()\n",
    "    test_loss = 0.0\n",
    "    correct = 0\n",
    "    total = 0\n",
    "    all_preds = []\n",
    "    all_labels = []\n",
    "\n",
    "    with torch.no_grad():\n",
    "        for inputs, labels in tqdm(test_loader, desc='Testing'):\n",
    "            inputs, labels = inputs.to(device), labels.to(device)\n",
    "\n",
    "            outputs = model(inputs)\n",
    "            loss = criterion(outputs, labels)\n",
    "\n",
    "            test_loss += loss.item() * inputs.size(0)\n",
    "\n",
    "            # Get predictions and accuracy\n",
    "            _, predicted = torch.max(outputs, 1)\n",
    "            correct += (predicted == labels).sum().item()\n",
    "            total += labels.size(0)\n",
    "\n",
    "            # Collect predictions and true labels for further analysis\n",
    "            all_preds.extend(predicted.cpu().numpy())\n",
    "            all_labels.extend(labels.cpu().numpy())\n",
    "\n",
    "    test_loss = test_loss / len(test_loader.dataset)\n",
    "    test_acc = correct / total\n",
    "\n",
    "    # Generate confusion matrix\n",
    "    conf_matrix = confusion_matrix(all_labels, all_preds)\n",
    "\n",
    "    # Return all labels and predictions for classification report\n",
    "    return test_loss, test_acc, conf_matrix, all_labels, all_preds"
   ]
  },
  {
   "cell_type": "code",
   "execution_count": 7,
   "id": "43f76fb9-0aaa-4ae1-8208-923d0cdd0103",
   "metadata": {},
   "outputs": [],
   "source": [
    "from sklearn.metrics import classification_report\n",
    "import scikitplot as skplt\n",
    "import matplotlib.pyplot as plt\n",
    "\n",
    "# Updated function to save confusion matrix using scikit-plot\n",
    "def save_confusion_matrix(all_labels, all_preds, checkpoint_name, output_dir=\"confusion_matrices\"):\n",
    "    os.makedirs(output_dir, exist_ok=True)\n",
    "    \n",
    "    # Plot confusion matrix using scikit-plot\n",
    "    plt.figure(figsize=(10, 8))\n",
    "    skplt.metrics.plot_confusion_matrix(all_labels, all_preds, figsize=(10, 8), cmap=\"Blues\")\n",
    "    \n",
    "    plt.title(f'Confusion Matrix for {checkpoint_name}')\n",
    "    \n",
    "    # Save the confusion matrix image\n",
    "    image_path = os.path.join(output_dir, f'{checkpoint_name}_confusion_matrix.png')\n",
    "    plt.savefig(image_path, dpi=300)  # Save with high resolution\n",
    "    plt.close()"
   ]
  },
  {
   "cell_type": "code",
   "execution_count": 8,
   "id": "ba4a58ec-34e2-4a99-9e24-1f9c3c197234",
   "metadata": {},
   "outputs": [],
   "source": [
    "# Updated function to evaluate a single model using a checkpoint\n",
    "def evaluate_single_checkpoint(model_function, checkpoint_path, num_classes, data_dir, batch_size, criterion):\n",
    "    test_loader = create_test_dataloader(data_dir, batch_size)\n",
    "    class_names = test_loader.dataset.classes\n",
    "\n",
    "    print(f\"Evaluating model: {model_function.__name__}\")\n",
    "    print(f\"Checkpoint: {checkpoint_path}\")\n",
    "\n",
    "    # Load the model from checkpoint\n",
    "    model = load_model(model_function, checkpoint_path, num_classes)\n",
    "\n",
    "    # Evaluate the model and gather loss, accuracy, confusion matrix, labels, and predictions\n",
    "    test_loss, test_acc, conf_matrix, all_labels, all_preds = evaluate_model(model, test_loader, criterion)\n",
    "\n",
    "    # Save confusion matrix as an image\n",
    "    save_confusion_matrix(all_labels, all_preds, os.path.basename(checkpoint_path))\n",
    "\n",
    "    # Print the results\n",
    "    print(f\"Test Loss: {test_loss:.4f}, Test Accuracy: {test_acc*100:.2f}%\")\n",
    "\n",
    "    # Generate and print the classification report using scikit-learn's `classification_report`\n",
    "    class_report = classification_report(all_labels, all_preds, target_names=class_names)\n",
    "    print(\"Classification Report:\\n\", class_report)"
   ]
  },
  {
   "cell_type": "markdown",
   "id": "f2c02ff7-042d-40de-8fc2-81ac526787bc",
   "metadata": {},
   "source": [
    "## resnet50_10ep"
   ]
  },
  {
   "cell_type": "code",
   "execution_count": 9,
   "id": "fd589c1b-a1ec-454e-9ee6-44bf54f05f7f",
   "metadata": {},
   "outputs": [
    {
     "name": "stdout",
     "output_type": "stream",
     "text": [
      "Evaluating model: load_resnet50\n",
      "Checkpoint: Checkpoints_best/resnet50_epoch_6.pth\n"
     ]
    },
    {
     "name": "stderr",
     "output_type": "stream",
     "text": [
      "Testing:   0%|                                                                                  | 0/22 [00:00<?, ?it/s]C:\\Users\\User\\anaconda3\\Lib\\site-packages\\torch\\nn\\modules\\conv.py:456: UserWarning: Plan failed with a cudnnException: CUDNN_BACKEND_EXECUTION_PLAN_DESCRIPTOR: cudnnFinalize Descriptor Failed cudnn_status: CUDNN_STATUS_NOT_SUPPORTED (Triggered internally at C:\\cb\\pytorch_1000000000000\\work\\aten\\src\\ATen\\native\\cudnn\\Conv_v8.cpp:919.)\n",
      "  return F.conv2d(input, weight, bias, self.stride,\n",
      "Testing: 100%|█████████████████████████████████████████████████████████████████████████| 22/22 [00:05<00:00,  4.22it/s]\n"
     ]
    },
    {
     "name": "stdout",
     "output_type": "stream",
     "text": [
      "Test Loss: 0.1008, Test Accuracy: 97.30%\n",
      "Classification Report:\n",
      "               precision    recall  f1-score   support\n",
      "\n",
      "      glioma       0.93      0.99      0.96       163\n",
      "  meningioma       0.99      0.90      0.94       165\n",
      "     notumor       0.99      1.00      1.00       200\n",
      "   pituitary       0.98      0.99      0.99       176\n",
      "\n",
      "    accuracy                           0.97       704\n",
      "   macro avg       0.97      0.97      0.97       704\n",
      "weighted avg       0.97      0.97      0.97       704\n",
      "\n"
     ]
    },
    {
     "data": {
      "text/plain": [
       "<Figure size 1000x800 with 0 Axes>"
      ]
     },
     "metadata": {},
     "output_type": "display_data"
    }
   ],
   "source": [
    "if __name__ == \"__main__\":\n",
    "    model_function = load_resnet50\n",
    "    criterion = nn.CrossEntropyLoss()\n",
    "    evaluate_single_checkpoint(model_function=model_function,\n",
    "                               checkpoint_path=\"Checkpoints_best/resnet50_epoch_6.pth\",\n",
    "                               num_classes=4,\n",
    "                               data_dir=\"Dataset/\",\n",
    "                               batch_size=32,\n",
    "                               criterion=criterion)"
   ]
  },
  {
   "cell_type": "markdown",
   "id": "5150d5c9-590b-4f57-81f9-24f73e2066c6",
   "metadata": {},
   "source": [
    "## resnet50_20ep"
   ]
  },
  {
   "cell_type": "code",
   "execution_count": 10,
   "id": "d7a5eaac-c074-483c-a864-b176127c6298",
   "metadata": {},
   "outputs": [
    {
     "name": "stdout",
     "output_type": "stream",
     "text": [
      "Evaluating model: load_resnet50\n",
      "Checkpoint: Checkpoints_best/resnet50_20ep_epoch_16.pth\n"
     ]
    },
    {
     "name": "stderr",
     "output_type": "stream",
     "text": [
      "Testing: 100%|█████████████████████████████████████████████████████████████████████████| 22/22 [00:04<00:00,  4.49it/s]\n"
     ]
    },
    {
     "name": "stdout",
     "output_type": "stream",
     "text": [
      "Test Loss: 0.0583, Test Accuracy: 97.73%\n",
      "Classification Report:\n",
      "               precision    recall  f1-score   support\n",
      "\n",
      "      glioma       0.99      0.98      0.98       163\n",
      "  meningioma       0.95      0.96      0.95       165\n",
      "     notumor       0.98      1.00      0.99       200\n",
      "   pituitary       0.99      0.97      0.98       176\n",
      "\n",
      "    accuracy                           0.98       704\n",
      "   macro avg       0.98      0.98      0.98       704\n",
      "weighted avg       0.98      0.98      0.98       704\n",
      "\n"
     ]
    },
    {
     "data": {
      "text/plain": [
       "<Figure size 1000x800 with 0 Axes>"
      ]
     },
     "metadata": {},
     "output_type": "display_data"
    }
   ],
   "source": [
    "if __name__ == \"__main__\":\n",
    "    model_function = load_resnet50\n",
    "    criterion = nn.CrossEntropyLoss()\n",
    "    evaluate_single_checkpoint(model_function=model_function,\n",
    "                               checkpoint_path=\"Checkpoints_best/resnet50_20ep_epoch_16.pth\",\n",
    "                               num_classes=4,\n",
    "                               data_dir=\"Dataset/\",\n",
    "                               batch_size=32,\n",
    "                               criterion=criterion)"
   ]
  },
  {
   "cell_type": "markdown",
   "id": "93bf9b8d-afda-4fa4-bbbc-6e56d6113fc9",
   "metadata": {},
   "source": [
    "## efficientnet_b0_20ep"
   ]
  },
  {
   "cell_type": "code",
   "execution_count": 11,
   "id": "626dc844-208c-4b6f-9887-2b49a7f67d55",
   "metadata": {},
   "outputs": [
    {
     "name": "stdout",
     "output_type": "stream",
     "text": [
      "Evaluating model: load_efficientnet_b0\n",
      "Checkpoint: Checkpoints_best/efficientnet_b0_20ep_epoch_7.pth\n"
     ]
    },
    {
     "name": "stderr",
     "output_type": "stream",
     "text": [
      "Testing: 100%|█████████████████████████████████████████████████████████████████████████| 22/22 [00:04<00:00,  5.16it/s]\n"
     ]
    },
    {
     "name": "stdout",
     "output_type": "stream",
     "text": [
      "Test Loss: 0.0359, Test Accuracy: 98.86%\n",
      "Classification Report:\n",
      "               precision    recall  f1-score   support\n",
      "\n",
      "      glioma       0.98      0.99      0.98       163\n",
      "  meningioma       0.99      0.96      0.98       165\n",
      "     notumor       1.00      1.00      1.00       200\n",
      "   pituitary       0.99      0.99      0.99       176\n",
      "\n",
      "    accuracy                           0.99       704\n",
      "   macro avg       0.99      0.99      0.99       704\n",
      "weighted avg       0.99      0.99      0.99       704\n",
      "\n"
     ]
    },
    {
     "data": {
      "text/plain": [
       "<Figure size 1000x800 with 0 Axes>"
      ]
     },
     "metadata": {},
     "output_type": "display_data"
    }
   ],
   "source": [
    "if __name__ == \"__main__\":\n",
    "    model_function = load_efficientnet_b0\n",
    "    criterion = nn.CrossEntropyLoss()\n",
    "    evaluate_single_checkpoint(model_function=model_function,\n",
    "                               checkpoint_path=\"Checkpoints_best/efficientnet_b0_20ep_epoch_7.pth\",\n",
    "                               num_classes=4,\n",
    "                               data_dir=\"Dataset/\",\n",
    "                               batch_size=32,\n",
    "                               criterion=criterion)"
   ]
  },
  {
   "cell_type": "markdown",
   "id": "4ce3a4a5-15fc-4a15-827e-a8f0bd9af8a7",
   "metadata": {},
   "source": [
    "## efficientnet_b0_10ep"
   ]
  },
  {
   "cell_type": "code",
   "execution_count": 12,
   "id": "7a5b241c-523f-4210-a37d-97171860c241",
   "metadata": {},
   "outputs": [
    {
     "name": "stdout",
     "output_type": "stream",
     "text": [
      "Evaluating model: load_efficientnet_b0\n",
      "Checkpoint: Checkpoints_best/efficientnet_b0_epoch_2.pth\n"
     ]
    },
    {
     "name": "stderr",
     "output_type": "stream",
     "text": [
      "Testing: 100%|█████████████████████████████████████████████████████████████████████████| 22/22 [00:04<00:00,  5.35it/s]\n"
     ]
    },
    {
     "name": "stdout",
     "output_type": "stream",
     "text": [
      "Test Loss: 0.0503, Test Accuracy: 98.72%\n",
      "Classification Report:\n",
      "               precision    recall  f1-score   support\n",
      "\n",
      "      glioma       0.99      0.99      0.99       163\n",
      "  meningioma       0.97      0.98      0.97       165\n",
      "     notumor       1.00      1.00      1.00       200\n",
      "   pituitary       0.98      0.98      0.98       176\n",
      "\n",
      "    accuracy                           0.99       704\n",
      "   macro avg       0.99      0.99      0.99       704\n",
      "weighted avg       0.99      0.99      0.99       704\n",
      "\n"
     ]
    },
    {
     "data": {
      "text/plain": [
       "<Figure size 1000x800 with 0 Axes>"
      ]
     },
     "metadata": {},
     "output_type": "display_data"
    }
   ],
   "source": [
    "if __name__ == \"__main__\":\n",
    "    model_function = load_efficientnet_b0\n",
    "    criterion = nn.CrossEntropyLoss()\n",
    "    evaluate_single_checkpoint(model_function=model_function,\n",
    "                               checkpoint_path=\"Checkpoints_best/efficientnet_b0_epoch_2.pth\",\n",
    "                               num_classes=4,\n",
    "                               data_dir=\"Dataset/\",\n",
    "                               batch_size=32,\n",
    "                               criterion=criterion)"
   ]
  },
  {
   "cell_type": "markdown",
   "id": "dc48f57e-0737-4799-8429-02ff9f721660",
   "metadata": {},
   "source": [
    "## efficientnet_b1_20ep"
   ]
  },
  {
   "cell_type": "code",
   "execution_count": 13,
   "id": "ba89048f-96f8-444b-83ab-339a0bdd13fb",
   "metadata": {},
   "outputs": [
    {
     "name": "stdout",
     "output_type": "stream",
     "text": [
      "Evaluating model: load_efficientnet_b1\n",
      "Checkpoint: Checkpoints_best/efficientnet_b1_20ep_epoch_13.pth\n"
     ]
    },
    {
     "name": "stderr",
     "output_type": "stream",
     "text": [
      "Testing: 100%|█████████████████████████████████████████████████████████████████████████| 22/22 [00:04<00:00,  5.04it/s]\n"
     ]
    },
    {
     "name": "stdout",
     "output_type": "stream",
     "text": [
      "Test Loss: 0.0264, Test Accuracy: 99.43%\n",
      "Classification Report:\n",
      "               precision    recall  f1-score   support\n",
      "\n",
      "      glioma       0.99      0.99      0.99       163\n",
      "  meningioma       0.98      0.99      0.99       165\n",
      "     notumor       1.00      1.00      1.00       200\n",
      "   pituitary       1.00      0.99      1.00       176\n",
      "\n",
      "    accuracy                           0.99       704\n",
      "   macro avg       0.99      0.99      0.99       704\n",
      "weighted avg       0.99      0.99      0.99       704\n",
      "\n"
     ]
    },
    {
     "data": {
      "text/plain": [
       "<Figure size 1000x800 with 0 Axes>"
      ]
     },
     "metadata": {},
     "output_type": "display_data"
    }
   ],
   "source": [
    "if __name__ == \"__main__\":\n",
    "    model_function = load_efficientnet_b1\n",
    "    criterion = nn.CrossEntropyLoss()\n",
    "    evaluate_single_checkpoint(model_function=model_function,\n",
    "                               checkpoint_path=\"Checkpoints_best/efficientnet_b1_20ep_epoch_13.pth\",\n",
    "                               num_classes=4,\n",
    "                               data_dir=\"Dataset/\",\n",
    "                               batch_size=32,\n",
    "                               criterion=criterion)"
   ]
  },
  {
   "cell_type": "markdown",
   "id": "0b7c4556-bf33-42c2-b74d-d8b41b61365d",
   "metadata": {},
   "source": [
    "## efficientnet_b1_10ep"
   ]
  },
  {
   "cell_type": "code",
   "execution_count": 14,
   "id": "006d3e04-19e8-434b-9d98-215439e32b1c",
   "metadata": {},
   "outputs": [
    {
     "name": "stdout",
     "output_type": "stream",
     "text": [
      "Evaluating model: load_efficientnet_b1\n",
      "Checkpoint: Checkpoints_best/efficientnet_b1_epoch_9.pth\n"
     ]
    },
    {
     "name": "stderr",
     "output_type": "stream",
     "text": [
      "Testing: 100%|█████████████████████████████████████████████████████████████████████████| 22/22 [00:04<00:00,  4.95it/s]\n"
     ]
    },
    {
     "name": "stdout",
     "output_type": "stream",
     "text": [
      "Test Loss: 0.0373, Test Accuracy: 98.72%\n",
      "Classification Report:\n",
      "               precision    recall  f1-score   support\n",
      "\n",
      "      glioma       0.98      0.99      0.99       163\n",
      "  meningioma       0.97      0.98      0.97       165\n",
      "     notumor       1.00      1.00      1.00       200\n",
      "   pituitary       0.99      0.98      0.99       176\n",
      "\n",
      "    accuracy                           0.99       704\n",
      "   macro avg       0.99      0.99      0.99       704\n",
      "weighted avg       0.99      0.99      0.99       704\n",
      "\n"
     ]
    },
    {
     "data": {
      "text/plain": [
       "<Figure size 1000x800 with 0 Axes>"
      ]
     },
     "metadata": {},
     "output_type": "display_data"
    }
   ],
   "source": [
    "if __name__ == \"__main__\":\n",
    "    model_function = load_efficientnet_b1\n",
    "    criterion = nn.CrossEntropyLoss()\n",
    "    evaluate_single_checkpoint(model_function=model_function,\n",
    "                               checkpoint_path=\"Checkpoints_best/efficientnet_b1_epoch_9.pth\",\n",
    "                               num_classes=4,\n",
    "                               data_dir=\"Dataset/\",\n",
    "                               batch_size=32,\n",
    "                               criterion=criterion)"
   ]
  },
  {
   "cell_type": "markdown",
   "id": "02de9361-3242-41b5-b0da-622d250617d6",
   "metadata": {},
   "source": [
    "## mobilenet_v2_10ep"
   ]
  },
  {
   "cell_type": "code",
   "execution_count": 15,
   "id": "0d5d1adf-7c06-4c7f-8ef6-631c917e7047",
   "metadata": {},
   "outputs": [
    {
     "name": "stdout",
     "output_type": "stream",
     "text": [
      "Evaluating model: load_mobilenet_v2\n",
      "Checkpoint: Checkpoints_best/mobilenet_v2_epoch_3.pth\n"
     ]
    },
    {
     "name": "stderr",
     "output_type": "stream",
     "text": [
      "Testing: 100%|█████████████████████████████████████████████████████████████████████████| 22/22 [00:03<00:00,  5.59it/s]\n"
     ]
    },
    {
     "name": "stdout",
     "output_type": "stream",
     "text": [
      "Test Loss: 0.0764, Test Accuracy: 97.16%\n",
      "Classification Report:\n",
      "               precision    recall  f1-score   support\n",
      "\n",
      "      glioma       0.97      0.98      0.97       163\n",
      "  meningioma       0.94      0.94      0.94       165\n",
      "     notumor       0.99      1.00      1.00       200\n",
      "   pituitary       0.98      0.97      0.97       176\n",
      "\n",
      "    accuracy                           0.97       704\n",
      "   macro avg       0.97      0.97      0.97       704\n",
      "weighted avg       0.97      0.97      0.97       704\n",
      "\n"
     ]
    },
    {
     "data": {
      "text/plain": [
       "<Figure size 1000x800 with 0 Axes>"
      ]
     },
     "metadata": {},
     "output_type": "display_data"
    }
   ],
   "source": [
    "if __name__ == \"__main__\":\n",
    "    model_function = load_mobilenet_v2\n",
    "    criterion = nn.CrossEntropyLoss()\n",
    "    evaluate_single_checkpoint(model_function=model_function,\n",
    "                               checkpoint_path=\"Checkpoints_best/mobilenet_v2_epoch_3.pth\",\n",
    "                               num_classes=4,\n",
    "                               data_dir=\"Dataset/\",\n",
    "                               batch_size=32,\n",
    "                               criterion=criterion)"
   ]
  },
  {
   "cell_type": "markdown",
   "id": "e8d5d78e-65f5-4811-9e55-c67a5c4da356",
   "metadata": {},
   "source": [
    "## mobilenet_v2_20ep"
   ]
  },
  {
   "cell_type": "code",
   "execution_count": 16,
   "id": "a25a0a68-f3eb-42d9-bed9-af2776a61676",
   "metadata": {},
   "outputs": [
    {
     "name": "stdout",
     "output_type": "stream",
     "text": [
      "Evaluating model: load_mobilenet_v2\n",
      "Checkpoint: Checkpoints_best/mobilenet_v2_20ep_epoch_16.pth\n"
     ]
    },
    {
     "name": "stderr",
     "output_type": "stream",
     "text": [
      "Testing: 100%|█████████████████████████████████████████████████████████████████████████| 22/22 [00:04<00:00,  5.47it/s]\n"
     ]
    },
    {
     "name": "stdout",
     "output_type": "stream",
     "text": [
      "Test Loss: 0.0410, Test Accuracy: 98.44%\n",
      "Classification Report:\n",
      "               precision    recall  f1-score   support\n",
      "\n",
      "      glioma       0.99      0.98      0.98       163\n",
      "  meningioma       0.97      0.96      0.97       165\n",
      "     notumor       0.99      1.00      1.00       200\n",
      "   pituitary       0.98      0.99      0.99       176\n",
      "\n",
      "    accuracy                           0.98       704\n",
      "   macro avg       0.98      0.98      0.98       704\n",
      "weighted avg       0.98      0.98      0.98       704\n",
      "\n"
     ]
    },
    {
     "data": {
      "text/plain": [
       "<Figure size 1000x800 with 0 Axes>"
      ]
     },
     "metadata": {},
     "output_type": "display_data"
    }
   ],
   "source": [
    "if __name__ == \"__main__\":\n",
    "    model_function = load_mobilenet_v2\n",
    "    criterion = nn.CrossEntropyLoss()\n",
    "    evaluate_single_checkpoint(model_function=model_function,\n",
    "                               checkpoint_path=\"Checkpoints_best/mobilenet_v2_20ep_epoch_16.pth\",\n",
    "                               num_classes=4,\n",
    "                               data_dir=\"Dataset/\",\n",
    "                               batch_size=32,\n",
    "                               criterion=criterion)"
   ]
  },
  {
   "cell_type": "markdown",
   "id": "a99939ae-6427-4ad1-aa56-3366013f959e",
   "metadata": {},
   "source": [
    "## mobilenet_v3_large_20ep"
   ]
  },
  {
   "cell_type": "code",
   "execution_count": 17,
   "id": "20537ba9-5d08-44cf-9b8b-6a72d9409ee0",
   "metadata": {},
   "outputs": [
    {
     "name": "stdout",
     "output_type": "stream",
     "text": [
      "Evaluating model: load_mobilenet_v3_large\n",
      "Checkpoint: Checkpoints_best/mobilenet_v3_large_20ep_epoch_10.pth\n"
     ]
    },
    {
     "name": "stderr",
     "output_type": "stream",
     "text": [
      "Testing: 100%|█████████████████████████████████████████████████████████████████████████| 22/22 [00:03<00:00,  5.97it/s]\n"
     ]
    },
    {
     "name": "stdout",
     "output_type": "stream",
     "text": [
      "Test Loss: 0.0500, Test Accuracy: 98.86%\n",
      "Classification Report:\n",
      "               precision    recall  f1-score   support\n",
      "\n",
      "      glioma       1.00      0.96      0.98       163\n",
      "  meningioma       0.96      0.99      0.98       165\n",
      "     notumor       1.00      0.99      1.00       200\n",
      "   pituitary       0.99      1.00      1.00       176\n",
      "\n",
      "    accuracy                           0.99       704\n",
      "   macro avg       0.99      0.99      0.99       704\n",
      "weighted avg       0.99      0.99      0.99       704\n",
      "\n"
     ]
    },
    {
     "data": {
      "text/plain": [
       "<Figure size 1000x800 with 0 Axes>"
      ]
     },
     "metadata": {},
     "output_type": "display_data"
    }
   ],
   "source": [
    "if __name__ == \"__main__\":\n",
    "    model_function = load_mobilenet_v3_large\n",
    "    criterion = nn.CrossEntropyLoss()\n",
    "    evaluate_single_checkpoint(model_function=model_function,\n",
    "                               checkpoint_path=\"Checkpoints_best/mobilenet_v3_large_20ep_epoch_10.pth\",\n",
    "                               num_classes=4,\n",
    "                               data_dir=\"Dataset/\",\n",
    "                               batch_size=32,\n",
    "                               criterion=criterion)"
   ]
  },
  {
   "cell_type": "markdown",
   "id": "971b0ce6-4caf-4a14-90d3-56ca412cabee",
   "metadata": {},
   "source": [
    "## mobilenet_v3_large_10ep"
   ]
  },
  {
   "cell_type": "code",
   "execution_count": 18,
   "id": "fd2b43ef-cceb-42d0-a7a8-9a8dec9665d9",
   "metadata": {},
   "outputs": [
    {
     "name": "stdout",
     "output_type": "stream",
     "text": [
      "Evaluating model: load_mobilenet_v3_large\n",
      "Checkpoint: Checkpoints_best/mobilenet_v3_large_epoch_5.pth\n"
     ]
    },
    {
     "name": "stderr",
     "output_type": "stream",
     "text": [
      "Testing: 100%|█████████████████████████████████████████████████████████████████████████| 22/22 [00:03<00:00,  5.86it/s]\n"
     ]
    },
    {
     "name": "stdout",
     "output_type": "stream",
     "text": [
      "Test Loss: 0.1104, Test Accuracy: 96.73%\n",
      "Classification Report:\n",
      "               precision    recall  f1-score   support\n",
      "\n",
      "      glioma       0.95      0.99      0.97       163\n",
      "  meningioma       0.98      0.89      0.93       165\n",
      "     notumor       0.98      0.99      0.99       200\n",
      "   pituitary       0.96      0.99      0.97       176\n",
      "\n",
      "    accuracy                           0.97       704\n",
      "   macro avg       0.97      0.97      0.97       704\n",
      "weighted avg       0.97      0.97      0.97       704\n",
      "\n"
     ]
    },
    {
     "data": {
      "text/plain": [
       "<Figure size 1000x800 with 0 Axes>"
      ]
     },
     "metadata": {},
     "output_type": "display_data"
    }
   ],
   "source": [
    "if __name__ == \"__main__\":\n",
    "    model_function = load_mobilenet_v3_large\n",
    "    criterion = nn.CrossEntropyLoss()\n",
    "    evaluate_single_checkpoint(model_function=model_function,\n",
    "                               checkpoint_path=\"Checkpoints_best/mobilenet_v3_large_epoch_5.pth\",\n",
    "                               num_classes=4,\n",
    "                               data_dir=\"Dataset/\",\n",
    "                               batch_size=32,\n",
    "                               criterion=criterion)"
   ]
  },
  {
   "cell_type": "markdown",
   "id": "6d96167a-c581-4c1f-8533-1da58102733a",
   "metadata": {},
   "source": [
    "## mobilenet_v3_small_20ep"
   ]
  },
  {
   "cell_type": "code",
   "execution_count": 19,
   "id": "54b2af4b-4264-4cca-a6c8-6d8fbea49415",
   "metadata": {},
   "outputs": [
    {
     "name": "stdout",
     "output_type": "stream",
     "text": [
      "Evaluating model: load_mobilenet_v3_small\n",
      "Checkpoint: Checkpoints_best/mobilenet_v3_small_20ep_epoch_13.pth\n"
     ]
    },
    {
     "name": "stderr",
     "output_type": "stream",
     "text": [
      "Testing: 100%|█████████████████████████████████████████████████████████████████████████| 22/22 [00:03<00:00,  5.93it/s]\n"
     ]
    },
    {
     "name": "stdout",
     "output_type": "stream",
     "text": [
      "Test Loss: 0.0506, Test Accuracy: 98.15%\n",
      "Classification Report:\n",
      "               precision    recall  f1-score   support\n",
      "\n",
      "      glioma       0.98      0.96      0.97       163\n",
      "  meningioma       0.96      0.98      0.97       165\n",
      "     notumor       0.99      1.00      0.99       200\n",
      "   pituitary       1.00      0.98      0.99       176\n",
      "\n",
      "    accuracy                           0.98       704\n",
      "   macro avg       0.98      0.98      0.98       704\n",
      "weighted avg       0.98      0.98      0.98       704\n",
      "\n"
     ]
    },
    {
     "data": {
      "text/plain": [
       "<Figure size 1000x800 with 0 Axes>"
      ]
     },
     "metadata": {},
     "output_type": "display_data"
    }
   ],
   "source": [
    "if __name__ == \"__main__\":\n",
    "    model_function = load_mobilenet_v3_small\n",
    "    criterion = nn.CrossEntropyLoss()\n",
    "    evaluate_single_checkpoint(model_function=model_function,\n",
    "                               checkpoint_path=\"Checkpoints_best/mobilenet_v3_small_20ep_epoch_13.pth\",\n",
    "                               num_classes=4,\n",
    "                               data_dir=\"Dataset/\",\n",
    "                               batch_size=32,\n",
    "                               criterion=criterion)"
   ]
  },
  {
   "cell_type": "markdown",
   "id": "fb143b6a-b21d-4e10-8b0b-2e0aac55ed67",
   "metadata": {},
   "source": [
    "## mobilenet_v3_small_10ep"
   ]
  },
  {
   "cell_type": "code",
   "execution_count": 20,
   "id": "a9794ef7-4264-472e-9f5b-63a5cf1fbb17",
   "metadata": {},
   "outputs": [
    {
     "name": "stdout",
     "output_type": "stream",
     "text": [
      "Evaluating model: load_mobilenet_v3_small\n",
      "Checkpoint: Checkpoints_best/mobilenet_v3_small_epoch_9.pth\n"
     ]
    },
    {
     "name": "stderr",
     "output_type": "stream",
     "text": [
      "Testing: 100%|█████████████████████████████████████████████████████████████████████████| 22/22 [00:03<00:00,  5.84it/s]\n"
     ]
    },
    {
     "name": "stdout",
     "output_type": "stream",
     "text": [
      "Test Loss: 0.0757, Test Accuracy: 97.59%\n",
      "Classification Report:\n",
      "               precision    recall  f1-score   support\n",
      "\n",
      "      glioma       0.99      0.97      0.98       163\n",
      "  meningioma       0.95      0.95      0.95       165\n",
      "     notumor       0.97      0.99      0.98       200\n",
      "   pituitary       0.99      0.98      0.99       176\n",
      "\n",
      "    accuracy                           0.98       704\n",
      "   macro avg       0.98      0.97      0.98       704\n",
      "weighted avg       0.98      0.98      0.98       704\n",
      "\n"
     ]
    },
    {
     "data": {
      "text/plain": [
       "<Figure size 1000x800 with 0 Axes>"
      ]
     },
     "metadata": {},
     "output_type": "display_data"
    }
   ],
   "source": [
    "if __name__ == \"__main__\":\n",
    "    model_function = load_mobilenet_v3_small\n",
    "    criterion = nn.CrossEntropyLoss()\n",
    "    evaluate_single_checkpoint(model_function=model_function,\n",
    "                               checkpoint_path=\"Checkpoints_best/mobilenet_v3_small_epoch_9.pth\",\n",
    "                               num_classes=4,\n",
    "                               data_dir=\"Dataset/\",\n",
    "                               batch_size=32,\n",
    "                               criterion=criterion)"
   ]
  }
 ],
 "metadata": {
  "kernelspec": {
   "display_name": "Python 3 (ipykernel)",
   "language": "python",
   "name": "python3"
  },
  "language_info": {
   "codemirror_mode": {
    "name": "ipython",
    "version": 3
   },
   "file_extension": ".py",
   "mimetype": "text/x-python",
   "name": "python",
   "nbconvert_exporter": "python",
   "pygments_lexer": "ipython3",
   "version": "3.11.7"
  }
 },
 "nbformat": 4,
 "nbformat_minor": 5
}

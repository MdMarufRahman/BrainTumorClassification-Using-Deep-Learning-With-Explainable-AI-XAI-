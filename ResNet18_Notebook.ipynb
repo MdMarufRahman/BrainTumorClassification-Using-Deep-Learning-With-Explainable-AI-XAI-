{
  "cells": [
    {
      "cell_type": "markdown",
      "source": [
        "# Mount Google Drive"
      ],
      "metadata": {
        "id": "7shiVczd56LN"
      },
      "id": "7shiVczd56LN"
    },
    {
      "cell_type": "code",
      "source": [
        "from google.colab import drive\n",
        "drive.mount('/content/drive')"
      ],
      "metadata": {
        "id": "HJGpZ7tq57m9"
      },
      "id": "HJGpZ7tq57m9",
      "execution_count": null,
      "outputs": []
    },
    {
      "cell_type": "markdown",
      "id": "8f094dbb-fda9-452a-af4e-bda6f72c5346",
      "metadata": {
        "id": "8f094dbb-fda9-452a-af4e-bda6f72c5346"
      },
      "source": [
        "# ResNet-18"
      ]
    },
    {
      "cell_type": "code",
      "execution_count": null,
      "id": "da7d4d09-8575-4739-96dd-7acbc7309326",
      "metadata": {
        "id": "da7d4d09-8575-4739-96dd-7acbc7309326"
      },
      "outputs": [],
      "source": [
        "import pandas as pd\n",
        "from PIL import Image\n",
        "from torch.utils.data import Dataset\n",
        "import torchvision.transforms as transforms\n",
        "\n",
        "class CustomDataset(Dataset):\n",
        "  def __init__(self, csv_file, transform=None):\n",
        "    self.data = pd.read_csv(csv_file)\n",
        "    self.transform = transform\n",
        "    self.label_dict = {\"notumor\": 0, \"glioma\": 1, \"meningioma\": 2, \"pituitary\": 3}\n",
        "\n",
        "  def __len__(self):\n",
        "    return len(self.data)\n",
        "\n",
        "  def __getitem__(self, idx):\n",
        "    # get image file paths from csv file\n",
        "    img_name = self.data.iloc[idx, 0]\n",
        "    # get the image from path\n",
        "    image = Image.open(img_name)\n",
        "    # get the image label from csv file\n",
        "    label = self.data.iloc[idx, 1]\n",
        "    # encode the image label accordingly\n",
        "    encoded_label = self.label_dict[label]\n",
        "    if self.transform:\n",
        "      image = self.transform(image)\n",
        "\n",
        "    return image, encoded_label\n",
        "\n",
        "\n",
        "# Define transforms for the input images\n",
        "transform = transforms.Compose(\n",
        "    [\n",
        "        # Convert black and white to 3 channels grayscale images\n",
        "        transforms.Grayscale(num_output_channels=3),\n",
        "        transforms.Resize((244, 244)),\n",
        "        transforms.ToTensor(),\n",
        "        # normalization for grayscale images\n",
        "        transforms.Normalize(mean=[0.485], std=[0.229]),\n",
        "    ]\n",
        ")\n",
        "\n",
        "# Load train and test datasets\n",
        "train_set = CustomDataset(\n",
        "    csv_file=\"/content/drive/MyDrive/BrainTumorClassification/train.csv\",\n",
        "    transform=transform,\n",
        ")\n",
        "test_set = CustomDataset(\n",
        "    csv_file=\"/content/drive/MyDrive/BrainTumorClassification/test.csv\",\n",
        "    transform=transform,\n",
        ")"
      ]
    },
    {
      "cell_type": "code",
      "execution_count": null,
      "id": "f5d62467-f859-477c-acb6-c224a0c652df",
      "metadata": {
        "id": "f5d62467-f859-477c-acb6-c224a0c652df"
      },
      "outputs": [],
      "source": [
        "# Print set sizes\n",
        "print(len(train_set))\n",
        "print(len(test_set))"
      ]
    },
    {
      "cell_type": "code",
      "execution_count": null,
      "id": "9cd37002-ecbd-4450-bad3-dd617c2c4e47",
      "metadata": {
        "id": "9cd37002-ecbd-4450-bad3-dd617c2c4e47"
      },
      "outputs": [],
      "source": [
        "from torch.utils.data import Dataset, DataLoader\n",
        "\n",
        "batch_size = 32\n",
        "\n",
        "# Create DataLoader\n",
        "train_loader = DataLoader(train_set, batch_size=batch_size, shuffle=True)\n",
        "test_loader = DataLoader(test_set, batch_size=batch_size, shuffle=False)"
      ]
    },
    {
      "cell_type": "code",
      "execution_count": null,
      "id": "b475396b-5eff-4d18-8074-e58956e37cbb",
      "metadata": {
        "id": "b475396b-5eff-4d18-8074-e58956e37cbb"
      },
      "outputs": [],
      "source": [
        "# Print loader\n",
        "print(len(train_loader))\n",
        "print(len(test_loader))"
      ]
    },
    {
      "cell_type": "code",
      "execution_count": null,
      "id": "56f5239e-5cf0-423e-a85d-0baa6a39e1df",
      "metadata": {
        "id": "56f5239e-5cf0-423e-a85d-0baa6a39e1df"
      },
      "outputs": [],
      "source": [
        "import torch\n",
        "# Check if GPU is available and set the device accordingly\n",
        "device = torch.device(\"cuda\" if torch.cuda.is_available() else \"cpu\")\n",
        "device"
      ]
    },
    {
      "cell_type": "markdown",
      "id": "b2511af1-af9a-444c-9ca9-c87fde42cdaa",
      "metadata": {
        "id": "b2511af1-af9a-444c-9ca9-c87fde42cdaa"
      },
      "source": [
        "# Train ResNet-18 Model"
      ]
    },
    {
      "cell_type": "code",
      "execution_count": null,
      "id": "a1b97001-bc95-499a-9525-92f525f5cef7",
      "metadata": {
        "id": "a1b97001-bc95-499a-9525-92f525f5cef7"
      },
      "outputs": [],
      "source": [
        "import torch\n",
        "import torchvision\n",
        "import torch.nn as nn\n",
        "import torch.optim as optim\n",
        "# from torchsummary import summary\n",
        "\n",
        "# Define the model\n",
        "model = torchvision.models.resnet18(pretrained=True)\n",
        "\n",
        "# Modify the last fully connected layer to fit our 4 classes\n",
        "num_ftrs = model.fc.in_features\n",
        "model.fc = nn.Linear(num_ftrs, 4)\n",
        "\n",
        "# Move the model to the appropriate device (GPU or CPU)\n",
        "model = model.to(device)"
      ]
    },
    {
      "cell_type": "code",
      "execution_count": null,
      "id": "0eb3e956-8993-4e40-b4e4-4447bb75a8dd",
      "metadata": {
        "id": "0eb3e956-8993-4e40-b4e4-4447bb75a8dd"
      },
      "outputs": [],
      "source": [
        "# Initialize the loss function\n",
        "loss_fn = nn.CrossEntropyLoss()\n",
        "# Adam Optimizer\n",
        "optimizer = optim.Adam(model.parameters(), lr=0.001)"
      ]
    },
    {
      "cell_type": "code",
      "execution_count": null,
      "id": "d627fd25-da91-4b6c-86c4-0da13f922218",
      "metadata": {
        "id": "d627fd25-da91-4b6c-86c4-0da13f922218"
      },
      "outputs": [],
      "source": [
        "import time\n",
        "\n",
        "# Training loop\n",
        "num_epochs = 10\n",
        "total_start_time = time.time()\n",
        "\n",
        "for epoch in range(num_epochs):\n",
        "    epoch_start_time = time.time()\n",
        "    running_loss = 0.0\n",
        "    correct_train = 0\n",
        "    total_train = 0\n",
        "\n",
        "    for inputs, labels in train_loader:\n",
        "        inputs, labels = inputs.to(device), labels.to(device)\n",
        "\n",
        "        # Zero the parameter gradients\n",
        "        optimizer.zero_grad()\n",
        "\n",
        "        # Forward pass\n",
        "        outputs = model(inputs)\n",
        "        loss = loss_fn(outputs, labels)\n",
        "\n",
        "        # Backward pass and optimize\n",
        "        loss.backward()\n",
        "        optimizer.step()\n",
        "\n",
        "        running_loss += loss.item() * inputs.size(0)\n",
        "\n",
        "        # Calculate training accuracy\n",
        "        _, predicted = torch.max(outputs, 1)\n",
        "        total_train += labels.size(0)\n",
        "        correct_train += (predicted == labels).sum().item()\n",
        "\n",
        "    epoch_loss = running_loss / len(train_set)\n",
        "    epoch_end_time = time.time()\n",
        "    epoch_time = epoch_end_time - epoch_start_time\n",
        "    epoch_time_minutes = epoch_time / 60  # Convert epoch time to minutes\n",
        "\n",
        "    # Calculate training accuracy\n",
        "    train_accuracy = correct_train / total_train\n",
        "\n",
        "    print(f\"Epoch [{epoch+1}/{num_epochs}], \"\n",
        "      f\"Loss: {epoch_loss:.4f}, \"\n",
        "      f\"Train Accuracy: {train_accuracy:.2%}, \"\n",
        "      f\"Time: {epoch_time:.2f} seconds \"\n",
        "      f\"({epoch_time_minutes:.2f} minutes)\")\n",
        "\n",
        "total_end_time = time.time()\n",
        "total_time = total_end_time - total_start_time\n",
        "print(f\"Total training time: {total_time/60:.2f} minutes\")"
      ]
    },
    {
      "cell_type": "code",
      "source": [
        "# Save the trained model\n",
        "torch.save(model.state_dict(), 'resnet18_model.pth')"
      ],
      "metadata": {
        "id": "S3xJglv46o7h"
      },
      "id": "S3xJglv46o7h",
      "execution_count": null,
      "outputs": []
    },
    {
      "cell_type": "markdown",
      "id": "f8c5444c-a686-4aec-938a-574df5d54940",
      "metadata": {
        "id": "f8c5444c-a686-4aec-938a-574df5d54940"
      },
      "source": [
        "# Evaluate Model on Test Set"
      ]
    },
    {
      "cell_type": "code",
      "execution_count": null,
      "id": "18da5b24-8ece-4acd-9c10-deb161e065d5",
      "metadata": {
        "id": "18da5b24-8ece-4acd-9c10-deb161e065d5"
      },
      "outputs": [],
      "source": [
        "# Evaluation mode\n",
        "model.eval()\n",
        "\n",
        "# Variables to accumulate correct predictions and total examples\n",
        "correct = 0\n",
        "total = 0\n",
        "\n",
        "# Disable gradient calculation\n",
        "with torch.no_grad():\n",
        "    for inputs, labels in test_loader:\n",
        "        inputs, labels = inputs.to(device), labels.to(device)\n",
        "\n",
        "        # Forward pass\n",
        "        outputs = model(inputs)\n",
        "\n",
        "        # Get predicted labels\n",
        "        _, predicted = torch.max(outputs, 1)\n",
        "        print(\"Actual:\",labels,\"\\nPrediction:\",predicted)\n",
        "        # Total number of examples\n",
        "        total += labels.size(0)\n",
        "\n",
        "        # Total correct predictions\n",
        "        correct += (predicted == labels).sum().item()\n",
        "\n",
        "# Accuracy calculation\n",
        "accuracy = correct / total\n",
        "print(f\"Accuracy on test set: {accuracy:.2%}\")"
      ]
    }
  ],
  "metadata": {
    "kernelspec": {
      "display_name": "Python 3",
      "name": "python3"
    },
    "language_info": {
      "codemirror_mode": {
        "name": "ipython",
        "version": 3
      },
      "file_extension": ".py",
      "mimetype": "text/x-python",
      "name": "python",
      "nbconvert_exporter": "python",
      "pygments_lexer": "ipython3",
      "version": "3.11.7"
    },
    "colab": {
      "provenance": [],
      "gpuType": "T4"
    },
    "accelerator": "GPU"
  },
  "nbformat": 4,
  "nbformat_minor": 5
}